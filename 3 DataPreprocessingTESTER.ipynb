{
 "cells": [
  {
   "cell_type": "code",
   "execution_count": 1,
   "metadata": {},
   "outputs": [],
   "source": [
    "import os\n",
    "# ^^^ pyforest auto-imports - don't write above this line\n",
    "import scipy.io\n",
    "import pandas as pd\n",
    "import math\n",
    "from scipy import signal\n",
    "from scipy.signal import hilbert"
   ]
  },
  {
   "cell_type": "code",
   "execution_count": 2,
   "metadata": {},
   "outputs": [],
   "source": [
    "directory_acc = 'D:\\\\Work\\\\Oxford\\\\Data\\\\ACC\\\\'\n",
    "directory_emg = 'D:\\\\Work\\\\Oxford\\\\Data\\\\EMG\\\\'"
   ]
  },
  {
   "cell_type": "code",
   "execution_count": 3,
   "metadata": {},
   "outputs": [
    {
     "name": "stdout",
     "output_type": "stream",
     "text": [
      "(1, 375518)\n"
     ]
    }
   ],
   "source": [
    "mat = scipy.io.loadmat(directory_acc+\"P01\")\n",
    "print(mat['tremorxf'].shape)"
   ]
  },
  {
   "cell_type": "code",
   "execution_count": 4,
   "metadata": {},
   "outputs": [],
   "source": [
    "def testing_preprocessing(name):\n",
    "    for i in range(len(name)):\n",
    "        #print(len(name[i][0]))\n",
    "        for j in range(len(name[i][0])):\n",
    "            if len(name[i][0][j]) != 5000:\n",
    "                raise Exception(\"There is an error in preprocessing\")\n",
    "    print(\"Preprocessing worked\")"
   ]
  },
  {
   "cell_type": "code",
   "execution_count": 5,
   "metadata": {},
   "outputs": [],
   "source": [
    "def z_score(df):\n",
    "    df_std = df.copy()# copy the dataframe\n",
    "    for column in df_std.columns:# apply the z-score method\n",
    "        df_std[column] = (df_std[column] - df_std[column].mean()) / df_std[column].std()\n",
    "    return df_std"
   ]
  },
  {
   "cell_type": "code",
   "execution_count": 6,
   "metadata": {},
   "outputs": [
    {
     "data": {
      "text/plain": [
       "'mat = scipy.io.loadmat(directory_acc+\"P01\")\\nprint(type(mat[\\'tremorxf\\'][0,:]))\\nprint(mat[\\'tremorxf\\'][0,:].shape)'"
      ]
     },
     "execution_count": 6,
     "metadata": {},
     "output_type": "execute_result"
    }
   ],
   "source": [
    "\"\"\"mat = scipy.io.loadmat(directory_acc+\"P01\")\n",
    "print(type(mat['tremorxf'][0,:]))\n",
    "print(mat['tremorxf'][0,:].shape)\"\"\""
   ]
  },
  {
   "cell_type": "code",
   "execution_count": 7,
   "metadata": {
    "scrolled": false
   },
   "outputs": [
    {
     "data": {
      "text/plain": [
       "'#SLIDING WINDOW APPROACH TESTING\\ni = [0,1,2,3,4,5,6,7,8,9,10]\\nimane=0\\nabc=0+imane\\nwhile(abc!=len(i)):\\n#for count in range(len(i)+len(i)): # i tk nhi chalna, i se zyada chalna hai\\n    #print(abc)\\n    if abc == 4+imane:\\n        print(\"BLA \",str(i[abc]))\\n        imane+=1\\n        abc=imane\\n        print(\"The starting is \",str(i[abc]))\\n        print(\"**********\")\\n        #print(\"The starting is at \",str(i[abc]))\\n    else:\\n        print(\"BLA \",str(i[abc]))\\n        abc+=1'"
      ]
     },
     "execution_count": 7,
     "metadata": {},
     "output_type": "execute_result"
    }
   ],
   "source": [
    "\"\"\"#SLIDING WINDOW APPROACH TESTING\n",
    "i = [0,1,2,3,4,5,6,7,8,9,10]\n",
    "imane=0\n",
    "abc=0+imane\n",
    "while(abc!=len(i)):\n",
    "#for count in range(len(i)+len(i)): # i tk nhi chalna, i se zyada chalna hai\n",
    "    #print(abc)\n",
    "    if abc == 4+imane:\n",
    "        print(\"BLA \",str(i[abc]))\n",
    "        imane+=1\n",
    "        abc=imane\n",
    "        print(\"The starting is \",str(i[abc]))\n",
    "        print(\"**********\")\n",
    "        #print(\"The starting is at \",str(i[abc]))\n",
    "    else:\n",
    "        print(\"BLA \",str(i[abc]))\n",
    "        abc+=1\"\"\""
   ]
  },
  {
   "cell_type": "code",
   "execution_count": 8,
   "metadata": {},
   "outputs": [
    {
     "data": {
      "application/javascript": [
       "\n",
       "        if (window._pyforest_update_imports_cell) { window._pyforest_update_imports_cell('import os'); }\n",
       "    "
      ],
      "text/plain": [
       "<IPython.core.display.Javascript object>"
      ]
     },
     "metadata": {},
     "output_type": "display_data"
    },
    {
     "name": "stdout",
     "output_type": "stream",
     "text": [
      "P01.mat\n",
      "(375518, 1)\n",
      "Done\n"
     ]
    }
   ],
   "source": [
    "patient= []\n",
    "input_images=[]\n",
    "temp_envelope=[]\n",
    "envelope=[]\n",
    "envelope_group=[]\n",
    "\n",
    "fs = 1000\n",
    "temp_group_inst_freq=[]\n",
    "temp_instantaneous_freq=[]\n",
    "instantaneous_freq=[]\n",
    "\n",
    "for index_patient,filename in enumerate(os.listdir(directory_acc)):\n",
    "    print(filename)\n",
    "    mat = scipy.io.loadmat(directory_acc+filename)\n",
    "    #x-AXIS\n",
    "    \n",
    "    df_cars = pd.DataFrame(mat['tremorxf'][0,:])\n",
    "    print(df_cars.shape)\n",
    "    df_cars_standardized = z_score(df_cars)    \n",
    "    \n",
    "    analytic_signal = hilbert(df_cars_standardized[0])\n",
    "    amplitude_envelope = np.abs(analytic_signal)\n",
    "    instantaneous_phase = np.unwrap(np.angle(analytic_signal))\n",
    "    instantaneous_frequency = (np.diff(instantaneous_phase) /(2.0*np.pi) * fs)\n",
    "    instantaneous_frequency = np.pad(instantaneous_frequency, (0, 1), 'constant')\n",
    "    \n",
    "    ix = list()\n",
    "    k = list()\n",
    "    mx = list()\n",
    "    ear=list()\n",
    "    count =0\n",
    "    for abc,j in enumerate(df_cars_standardized[0]):\n",
    "        k.append(j)\n",
    "        mx.append(amplitude_envelope[abc])\n",
    "        ear.append(instantaneous_frequency[abc])\n",
    "        count+=1\n",
    "        if count == 5000:\n",
    "            temp_envelope.append(mx)\n",
    "            temp_group_inst_freq.append(ear)\n",
    "            ix.append(k)\n",
    "            count=0\n",
    "            ear=list()\n",
    "            mx=list()\n",
    "            k = list()\n",
    "    patient.append(ix)\n",
    "    envelope.append(temp_envelope)\n",
    "    temp_instantaneous_freq.append(temp_group_inst_freq)\n",
    "    temp_group_inst_freq=list()\n",
    "    temp_envelope=list()\n",
    "    \n",
    "    df_cars = pd.DataFrame(mat['tremoryf'][0,:])\n",
    "    df_cars_standardized = z_score(df_cars)\n",
    "    \n",
    "    analytic_signal = hilbert(df_cars_standardized[0])\n",
    "    amplitude_envelope = np.abs(analytic_signal)\n",
    "    instantaneous_phase = np.unwrap(np.angle(analytic_signal))\n",
    "    instantaneous_frequency = (np.diff(instantaneous_phase) /(2.0*np.pi) * fs)\n",
    "    instantaneous_frequency = np.pad(instantaneous_frequency, (0, 1), 'constant')# adds 0 at the end\n",
    "    \n",
    "    iy = list()\n",
    "    k = list()\n",
    "    my = list()\n",
    "    ear=list()\n",
    "    count =0\n",
    "    for abc,j in enumerate(df_cars_standardized[0]):\n",
    "        k.append(j)\n",
    "        my.append(amplitude_envelope[abc])\n",
    "        ear.append(instantaneous_frequency[abc])\n",
    "        count+=1\n",
    "        if count == 5000:\n",
    "            temp_envelope.append(my)\n",
    "            temp_group_inst_freq.append(ear)\n",
    "            iy.append(k)\n",
    "            count=0\n",
    "            ear=list()\n",
    "            my=list()\n",
    "            k = list()\n",
    "    patient.append(iy)\n",
    "    envelope.append(temp_envelope)\n",
    "    temp_envelope=list()\n",
    "    temp_instantaneous_freq.append(temp_group_inst_freq)\n",
    "    temp_group_inst_freq=list()\n",
    "    \n",
    "    \n",
    "    df_cars = pd.DataFrame(mat['tremorzf'][0,:])\n",
    "    df_cars_standardized = z_score(df_cars)\n",
    "    \n",
    "    analytic_signal = hilbert(df_cars_standardized[0])\n",
    "    amplitude_envelope = np.abs(analytic_signal)\n",
    "    instantaneous_phase = np.unwrap(np.angle(analytic_signal))\n",
    "    instantaneous_frequency = (np.diff(instantaneous_phase) /(2.0*np.pi) * fs)\n",
    "    instantaneous_frequency = np.pad(instantaneous_frequency, (0, 1), 'constant')\n",
    "    \n",
    "    iz = list()\n",
    "    k = list()\n",
    "    mz = list()\n",
    "    ear=list()\n",
    "    count =0\n",
    "    for abc,j in enumerate(df_cars_standardized[0]):\n",
    "        k.append(j)\n",
    "        mz.append(amplitude_envelope[abc])\n",
    "        ear.append(instantaneous_frequency[abc])\n",
    "        count+=1\n",
    "        if count == 5000:\n",
    "            temp_envelope.append(mz)\n",
    "            temp_group_inst_freq.append(ear)\n",
    "            iz.append(k)\n",
    "            count=0\n",
    "            mz=list()\n",
    "            ear=list()\n",
    "            k = list()\n",
    "    patient.append(iz)\n",
    "    envelope.append(temp_envelope)\n",
    "    temp_envelope=list()\n",
    "    temp_instantaneous_freq.append(temp_group_inst_freq)\n",
    "    temp_group_inst_freq=list()\n",
    "    \n",
    "    input_images.append(patient)\n",
    "    patient=list()\n",
    "    \n",
    "    envelope_group.append(envelope)\n",
    "    envelope=list()\n",
    "    \n",
    "    instantaneous_freq.append(temp_instantaneous_freq)\n",
    "    temp_instantaneous_freq=list()\n",
    "    \n",
    "print(\"Done\")"
   ]
  },
  {
   "cell_type": "code",
   "execution_count": 78,
   "metadata": {},
   "outputs": [
    {
     "name": "stdout",
     "output_type": "stream",
     "text": [
      "Preprocessing worked\n",
      "Preprocessing worked\n",
      "Preprocessing worked\n"
     ]
    }
   ],
   "source": [
    "testing_preprocessing(input_images)\n",
    "testing_preprocessing(envelope_group)\n",
    "testing_preprocessing(instantaneous_freq)"
   ]
  },
  {
   "cell_type": "code",
   "execution_count": 79,
   "metadata": {},
   "outputs": [
    {
     "name": "stdout",
     "output_type": "stream",
     "text": [
      "9\n",
      "3\n",
      "61\n",
      "5000\n"
     ]
    }
   ],
   "source": [
    "#no.Patients x axis x 5 sec interval x 5000 instance points\n",
    "print(len(input_images))\n",
    "print(len(input_images[0]))\n",
    "print(len(input_images[1][0]))\n",
    "print(len(input_images[0][0][0]))"
   ]
  },
  {
   "cell_type": "code",
   "execution_count": 80,
   "metadata": {},
   "outputs": [
    {
     "name": "stdout",
     "output_type": "stream",
     "text": [
      "9\n",
      "3\n",
      "61\n",
      "5000\n"
     ]
    }
   ],
   "source": [
    "#no.Patients x axis x 5 sec interval x 5000 instance points\n",
    "print(len(envelope_group))\n",
    "print(len(envelope_group[0]))\n",
    "print(len(envelope_group[1][0]))\n",
    "print(len(envelope_group[0][0][0]))"
   ]
  },
  {
   "cell_type": "code",
   "execution_count": 81,
   "metadata": {},
   "outputs": [
    {
     "name": "stdout",
     "output_type": "stream",
     "text": [
      "9\n",
      "3\n",
      "61\n",
      "5000\n"
     ]
    }
   ],
   "source": [
    "#no.Patients x axis x 5 sec interval x 5000 instance points\n",
    "print(len(instantaneous_freq))\n",
    "print(len(instantaneous_freq[0]))\n",
    "print(len(instantaneous_freq[1][0]))\n",
    "print(len(instantaneous_freq[0][0][0]))"
   ]
  },
  {
   "cell_type": "code",
   "execution_count": 82,
   "metadata": {},
   "outputs": [],
   "source": [
    "np.save(\"acc\",arr = np.array(input_images))\n",
    "np.save(\"acc_envelope\",arr = np.array(envelope_group))\n",
    "\n",
    "np.save(\"acc_instantaneous_freq\",arr = np.array(instantaneous_freq))"
   ]
  },
  {
   "cell_type": "code",
   "execution_count": 48,
   "metadata": {},
   "outputs": [
    {
     "name": "stdout",
     "output_type": "stream",
     "text": [
      "**************************DONE PROCESSING OF THE ACCELEROMETER**************************\n"
     ]
    }
   ],
   "source": [
    "print(\"**************************DONE PROCESSING OF THE ACCELEROMETER**************************\")"
   ]
  },
  {
   "cell_type": "markdown",
   "metadata": {},
   "source": [
    "# EMG TAIMEEEE #####################################################################"
   ]
  },
  {
   "cell_type": "code",
   "execution_count": 58,
   "metadata": {},
   "outputs": [
    {
     "name": "stdout",
     "output_type": "stream",
     "text": [
      "Order of the filter is  2\n",
      "The cutoff frequency is  15\n",
      "After Nyquist is  0.03\n"
     ]
    }
   ],
   "source": [
    "order = 2\n",
    "fps = 1000\n",
    "cutoff_freq = 15\n",
    "print(\"Order of the filter is \",order)\n",
    "print(\"The cutoff frequency is \",cutoff_freq)\n",
    "print(\"After Nyquist is \",cutoff_freq/(0.5*fps))"
   ]
  },
  {
   "cell_type": "code",
   "execution_count": 59,
   "metadata": {},
   "outputs": [],
   "source": [
    "def butter_highpass(cutoff, fs, order=2):\n",
    "    nyq = 0.5 * fs\n",
    "    normal_cutoff = cutoff / nyq\n",
    "    b, a = signal.butter(order, normal_cutoff, btype='high', analog=False)\n",
    "    return b, a\n",
    "\n",
    "def butter_highpass_filter(data, cutoff, fs, order=2):\n",
    "    b, a = butter_highpass(cutoff, fs, order=order)\n",
    "    y = signal.filtfilt(b, a, data)\n",
    "    return y"
   ]
  },
  {
   "cell_type": "code",
   "execution_count": 60,
   "metadata": {},
   "outputs": [],
   "source": [
    "def butter_lowpass(cutoff, fs, order=2):\n",
    "    nyq = 0.5 * fs\n",
    "    normal_cutoff = cutoff / nyq\n",
    "    b, a = signal.butter(order, normal_cutoff, btype='low', analog=False)\n",
    "    return b, a\n",
    "\n",
    "def butter_lowpass_filter(data, cutoff, fs, order=2):\n",
    "    b, a = butter_lowpass(cutoff, fs, order=order)\n",
    "    y = signal.filtfilt(b, a, data)\n",
    "    return y"
   ]
  },
  {
   "cell_type": "code",
   "execution_count": 61,
   "metadata": {
    "scrolled": false
   },
   "outputs": [
    {
     "data": {
      "text/plain": [
       "\"#Normalization Testing   DONE\\nfor index_patient,filename in enumerate(os.listdir(directory_emg)):\\n    print(filename)\\n    mat = scipy.io.loadmat(directory_emg+filename)\\n    sine= np.array(mat['mio1fz'][0,:])\\n    print(sine.shape)\\n    total=np.sum(sine)\\n    normal_array = sine/total \\n    print(np.sum(normal_array))\""
      ]
     },
     "execution_count": 61,
     "metadata": {},
     "output_type": "execute_result"
    }
   ],
   "source": [
    "\"\"\"#Normalization Testing   DONE\n",
    "for index_patient,filename in enumerate(os.listdir(directory_emg)):\n",
    "    print(filename)\n",
    "    mat = scipy.io.loadmat(directory_emg+filename)\n",
    "    sine= np.array(mat['mio1fz'][0,:])\n",
    "    print(sine.shape)\n",
    "    total=np.sum(sine)\n",
    "    normal_array = sine/total \n",
    "    print(np.sum(normal_array))\"\"\""
   ]
  },
  {
   "cell_type": "code",
   "execution_count": 62,
   "metadata": {},
   "outputs": [
    {
     "name": "stdout",
     "output_type": "stream",
     "text": [
      "E01.mat\n",
      "E04.mat\n",
      "E05.mat\n",
      "E07.mat\n",
      "E08.mat\n",
      "E10.mat\n",
      "E11.mat\n",
      "E12.mat\n",
      "E14.mat\n",
      "Done EMG\n"
     ]
    }
   ],
   "source": [
    "#For EMG NOW\n",
    "input_emg = []\n",
    "patient= []\n",
    "temp_envelope=[]\n",
    "envelope=[]\n",
    "envelope_group=[]\n",
    "\n",
    "for index_patient,filename in enumerate(os.listdir(directory_emg)):\n",
    "    print(filename)\n",
    "    mat = scipy.io.loadmat(directory_emg+filename)\n",
    "    \n",
    "    #x-AXIS\n",
    "    sine= mat['mio1fx'][0,:]\n",
    "    filtered_sine=butter_highpass_filter(sine.data,15,fps)\n",
    "    beatriz=butter_lowpass_filter(abs(filtered_sine),150,fps)\n",
    "    total=np.sum(beatriz)\n",
    "    normal_array = beatriz/total\n",
    "    #print(np.sum(normal_array))\n",
    "    df_cars = pd.DataFrame(normal_array)\n",
    "    \n",
    "    analytic_signal = hilbert(df_cars[0])\n",
    "    amplitude_envelope = np.abs(analytic_signal)\n",
    "    \n",
    "    ix = list()\n",
    "    k = list()\n",
    "    mx = list()\n",
    "    count =0\n",
    "    for abc,j in enumerate(df_cars[0]):\n",
    "        k.append(j)\n",
    "        mx.append(amplitude_envelope[abc])\n",
    "        count+=1\n",
    "        if count == 5000:\n",
    "            temp_envelope.append(mx)\n",
    "            ix.append(k)\n",
    "            count=0\n",
    "            mx=list()\n",
    "            k = list()\n",
    "    #input_images[index_patient,0,:]=np.moveaxis(np.array(ix), 0, -1)\n",
    "    patient.append(ix)\n",
    "    envelope.append(temp_envelope)\n",
    "    temp_envelope=list()\n",
    "\n",
    "    #y-AXIS\n",
    "    sine= mat['mio1fy'][0,:]\n",
    "    filtered_sine=butter_highpass_filter(sine.data,15,fps)\n",
    "    beatriz=butter_lowpass_filter(abs(filtered_sine),150,fps)\n",
    "    total=np.sum(beatriz)\n",
    "    normal_array = beatriz/total\n",
    "    df_cars = pd.DataFrame(normal_array)\n",
    "    analytic_signal = hilbert(df_cars[0])\n",
    "    amplitude_envelope = np.abs(analytic_signal)\n",
    "    \n",
    "    iy = list()\n",
    "    k = list()\n",
    "    my = list()\n",
    "    count =0\n",
    "    for abc,j in enumerate(df_cars[0]):\n",
    "        k.append(j)\n",
    "        my.append(amplitude_envelope[abc])\n",
    "        count+=1\n",
    "        if count == 5000:\n",
    "            temp_envelope.append(my)\n",
    "            my=list()\n",
    "            iy.append(k)\n",
    "            count=0\n",
    "            k = list()\n",
    "    #input_images[index_patient,0,:]=np.moveaxis(np.array(ix), 0, -1)\n",
    "    patient.append(iy)\n",
    "    envelope.append(temp_envelope)\n",
    "    temp_envelope=list()\n",
    "    \n",
    "    #z-AXIS\n",
    "    sine= mat['mio1fz'][0,:]\n",
    "    filtered_sine=butter_highpass_filter(sine.data,15,fps)\n",
    "    beatriz=butter_lowpass_filter(abs(filtered_sine),150,fps)\n",
    "    total=np.sum(beatriz)\n",
    "    normal_array = beatriz/total\n",
    "    df_cars = pd.DataFrame(normal_array)\n",
    "    analytic_signal = hilbert(df_cars[0])\n",
    "    amplitude_envelope = np.abs(analytic_signal)\n",
    "    \n",
    "    iz = list()\n",
    "    k = list()\n",
    "    mz = list()\n",
    "    count =0\n",
    "    for abc,j in enumerate(df_cars[0]):\n",
    "        k.append(j)\n",
    "        mz.append(amplitude_envelope[abc])\n",
    "        count+=1\n",
    "        if count == 5000:\n",
    "            temp_envelope.append(mz)\n",
    "            mz=list()\n",
    "            iz.append(k)\n",
    "            count=0\n",
    "            k = list()\n",
    "    #input_images[index_patient,0,:]=np.moveaxis(np.array(ix), 0, -1)\n",
    "    patient.append(iz)\n",
    "    envelope.append(temp_envelope)\n",
    "    temp_envelope=list()\n",
    "    \n",
    "    envelope_group.append(envelope)\n",
    "    envelope=list()\n",
    "    \n",
    "    input_emg.append(patient)\n",
    "    patient= []\n",
    "print(\"Done EMG\")"
   ]
  },
  {
   "cell_type": "code",
   "execution_count": 70,
   "metadata": {},
   "outputs": [
    {
     "name": "stdout",
     "output_type": "stream",
     "text": [
      "Preprocessing worked\n",
      "Preprocessing worked\n"
     ]
    }
   ],
   "source": [
    "testing_preprocessing(input_emg)\n",
    "testing_preprocessing(envelope_group)"
   ]
  },
  {
   "cell_type": "code",
   "execution_count": 71,
   "metadata": {},
   "outputs": [],
   "source": [
    "np.save(\"emg\",arr = np.array(input_emg))\n",
    "np.save(\"emg_envelope\",arr = np.array(envelope_group))"
   ]
  },
  {
   "cell_type": "code",
   "execution_count": 72,
   "metadata": {},
   "outputs": [
    {
     "name": "stdout",
     "output_type": "stream",
     "text": [
      "**************************DONE PROCESSING OF THE ACCELEROMETER**************************\n"
     ]
    }
   ],
   "source": [
    "print(\"**************************DONE PROCESSING OF THE ACCELEROMETER**************************\")"
   ]
  },
  {
   "cell_type": "code",
   "execution_count": 64,
   "metadata": {},
   "outputs": [
    {
     "data": {
      "text/plain": [
       "'mat = scipy.io.loadmat(directory_emg+\"E07\")\\nprint(type(mat[\\'mio1fx\\'][0,:]))\\nprint(mat[\\'mio1fx\\'][0,:].shape)'"
      ]
     },
     "execution_count": 64,
     "metadata": {},
     "output_type": "execute_result"
    }
   ],
   "source": [
    "\"\"\"mat = scipy.io.loadmat(directory_emg+\"E07\")\n",
    "print(type(mat['mio1fx'][0,:]))\n",
    "print(mat['mio1fx'][0,:].shape)\"\"\""
   ]
  },
  {
   "cell_type": "code",
   "execution_count": 65,
   "metadata": {},
   "outputs": [
    {
     "data": {
      "text/plain": [
       "\"# TESTING FOR HIGH PASS FILTER        DONE\\n\\nimport numpy as np\\nimport pandas as pd\\nfrom scipy import signal\\nimport matplotlib.pyplot as plt\\ndef sine_generator(fs, sinefreq, duration):\\n    T = duration\\n    nsamples = fs * T\\n    w = 2. * np.pi * sinefreq\\n    t_sine = np.linspace(0, T, nsamples, endpoint=False)\\n    y_sine = np.sin(w * t_sine)\\n    result = pd.DataFrame({ \\n        'data' : y_sine} ,index=t_sine)\\n    return result\\n\\ndef butter_highpass(cutoff, fs, order=2):\\n    nyq = 0.5 * fs\\n    normal_cutoff = cutoff / nyq\\n    b, a = signal.butter(order, normal_cutoff, btype='high', analog=False)\\n    return b, a\\n\\ndef butter_highpass_filter(data, cutoff, fs, order=2):\\n    b, a = butter_highpass(cutoff, fs, order=order)\\n    y = signal.filtfilt(b, a, data)\\n    return y\\n\\nfps = 1000\\n#sine_fq = 10 #Hz\\n#duration = 10 #seconds\\n#sine_5Hz = sine_generator(fps,sine_fq,duration)\\n#sine_fq = 1 #Hz\\n#duration = 10 #seconds\\n#sine_1Hz = sine_generator(fps,sine_fq,duration)\\n\\n#sine = sine_5Hz + sine_1Hz\\nsine = mat['mio1fx'][0,:]\\n\\nfiltered_sine = butter_highpass_filter(sine.data,15,fps)\\nfiltered_sine2 = butter_lowpass_filter(abs(filtered_sine),150,fps)\\n\\nbeatriz=filtered_sine2\\n\\n\\nplt.figure(figsize=(20,10))\\nplt.subplot(211)\\nplt.plot(range(len(sine)),sine)\\nplt.title('generated signal')\\nplt.subplot(212)\\nplt.plot(range(len(filtered_sine)),abs(filtered_sine))\\nplt.title('filtered signal')\\nplt.show()\""
      ]
     },
     "execution_count": 65,
     "metadata": {},
     "output_type": "execute_result"
    }
   ],
   "source": [
    "\"\"\"# TESTING FOR HIGH PASS FILTER        DONE\n",
    "\n",
    "import numpy as np\n",
    "import pandas as pd\n",
    "from scipy import signal\n",
    "import matplotlib.pyplot as plt\n",
    "def sine_generator(fs, sinefreq, duration):\n",
    "    T = duration\n",
    "    nsamples = fs * T\n",
    "    w = 2. * np.pi * sinefreq\n",
    "    t_sine = np.linspace(0, T, nsamples, endpoint=False)\n",
    "    y_sine = np.sin(w * t_sine)\n",
    "    result = pd.DataFrame({ \n",
    "        'data' : y_sine} ,index=t_sine)\n",
    "    return result\n",
    "\n",
    "def butter_highpass(cutoff, fs, order=2):\n",
    "    nyq = 0.5 * fs\n",
    "    normal_cutoff = cutoff / nyq\n",
    "    b, a = signal.butter(order, normal_cutoff, btype='high', analog=False)\n",
    "    return b, a\n",
    "\n",
    "def butter_highpass_filter(data, cutoff, fs, order=2):\n",
    "    b, a = butter_highpass(cutoff, fs, order=order)\n",
    "    y = signal.filtfilt(b, a, data)\n",
    "    return y\n",
    "\n",
    "fps = 1000\n",
    "#sine_fq = 10 #Hz\n",
    "#duration = 10 #seconds\n",
    "#sine_5Hz = sine_generator(fps,sine_fq,duration)\n",
    "#sine_fq = 1 #Hz\n",
    "#duration = 10 #seconds\n",
    "#sine_1Hz = sine_generator(fps,sine_fq,duration)\n",
    "\n",
    "#sine = sine_5Hz + sine_1Hz\n",
    "sine = mat['mio1fx'][0,:]\n",
    "\n",
    "filtered_sine = butter_highpass_filter(sine.data,15,fps)\n",
    "filtered_sine2 = butter_lowpass_filter(abs(filtered_sine),150,fps)\n",
    "\n",
    "beatriz=filtered_sine2\n",
    "\n",
    "\n",
    "plt.figure(figsize=(20,10))\n",
    "plt.subplot(211)\n",
    "plt.plot(range(len(sine)),sine)\n",
    "plt.title('generated signal')\n",
    "plt.subplot(212)\n",
    "plt.plot(range(len(filtered_sine)),abs(filtered_sine))\n",
    "plt.title('filtered signal')\n",
    "plt.show()\"\"\""
   ]
  },
  {
   "cell_type": "code",
   "execution_count": 66,
   "metadata": {
    "scrolled": false
   },
   "outputs": [
    {
     "data": {
      "text/plain": [
       "\"#TESTING FOR DOMINANT FREQ           DONE\\ntesting_emg =beatriz\\nprint(testing_emg.shape)\\nsampling_rate = 1000#1000Hz\\nfourier_transform = np.fft.rfft(testing_emg)#one dimensional discrete fourier transform\\n#print(fourier_transform.shape)\\n\\nabs_fourier_transform = np.abs(fourier_transform)\\n\\npower_spectrum = np.square(abs_fourier_transform)\\npower_spectrum[:500]=0\\n\\nfrequency = np.linspace(0, sampling_rate/2, len(power_spectrum))\\nplt.xlabel('frequency [Hz]')\\nplt.ylabel('Power Spectrum')\\n#lt.xlim([-1, 10])\\n#plt.ylim([1, 8])\\nplt.plot(frequency, power_spectrum)\""
      ]
     },
     "execution_count": 66,
     "metadata": {},
     "output_type": "execute_result"
    }
   ],
   "source": [
    "\"\"\"#TESTING FOR DOMINANT FREQ           DONE\n",
    "testing_emg =beatriz\n",
    "print(testing_emg.shape)\n",
    "sampling_rate = 1000#1000Hz\n",
    "fourier_transform = np.fft.rfft(testing_emg)#one dimensional discrete fourier transform\n",
    "#print(fourier_transform.shape)\n",
    "\n",
    "abs_fourier_transform = np.abs(fourier_transform)\n",
    "\n",
    "power_spectrum = np.square(abs_fourier_transform)\n",
    "power_spectrum[:500]=0\n",
    "\n",
    "frequency = np.linspace(0, sampling_rate/2, len(power_spectrum))\n",
    "plt.xlabel('frequency [Hz]')\n",
    "plt.ylabel('Power Spectrum')\n",
    "#lt.xlim([-1, 10])\n",
    "#plt.ylim([1, 8])\n",
    "plt.plot(frequency, power_spectrum)\"\"\""
   ]
  },
  {
   "cell_type": "code",
   "execution_count": 9,
   "metadata": {},
   "outputs": [
    {
     "data": {
      "text/plain": [
       "\"from scipy import signal\\nb, a = signal.butter(2, 100, 'highpass', analog=True)\\nw, h = signal.freqs(b, a)\\nplt.semilogx(w, 20 * np.log10(abs(h)))\\nplt.title('Butterworth filter frequency response')\\nplt.xlabel('Frequency [radians / second]')\\nplt.ylabel('Amplitude [dB]')\\nplt.margins(0, 0.1)\\nplt.grid(which='both', axis='both')\\nplt.axvline(100, color='green') # cutoff frequency\\nplt.show()\""
      ]
     },
     "execution_count": 9,
     "metadata": {},
     "output_type": "execute_result"
    }
   ],
   "source": [
    "\"\"\"from scipy import signal\n",
    "b, a = signal.butter(2, 100, 'highpass', analog=True)\n",
    "w, h = signal.freqs(b, a)\n",
    "plt.semilogx(w, 20 * np.log10(abs(h)))\n",
    "plt.title('Butterworth filter frequency response')\n",
    "plt.xlabel('Frequency [radians / second]')\n",
    "plt.ylabel('Amplitude [dB]')\n",
    "plt.margins(0, 0.1)\n",
    "plt.grid(which='both', axis='both')\n",
    "plt.axvline(100, color='green') # cutoff frequency\n",
    "plt.show()\"\"\""
   ]
  }
 ],
 "metadata": {
  "kernelspec": {
   "display_name": "Python 3",
   "language": "python",
   "name": "python3"
  },
  "language_info": {
   "codemirror_mode": {
    "name": "ipython",
    "version": 3
   },
   "file_extension": ".py",
   "mimetype": "text/x-python",
   "name": "python",
   "nbconvert_exporter": "python",
   "pygments_lexer": "ipython3",
   "version": "3.6.5"
  }
 },
 "nbformat": 4,
 "nbformat_minor": 2
}

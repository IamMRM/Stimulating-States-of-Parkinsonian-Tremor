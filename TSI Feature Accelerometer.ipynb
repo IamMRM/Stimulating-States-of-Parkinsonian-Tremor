{
 "cells": [
  {
   "cell_type": "code",
   "execution_count": 1,
   "metadata": {},
   "outputs": [],
   "source": [
    "import numpy as np\n",
    "%matplotlib inline\n",
    "import matplotlib.pyplot as plt\n",
    "from matplotlib import rcParams"
   ]
  },
  {
   "cell_type": "code",
   "execution_count": 2,
   "metadata": {},
   "outputs": [],
   "source": [
    "acc_instFreq=np.load(\"acc_instantaneous_freq.npy\")"
   ]
  },
  {
   "cell_type": "code",
   "execution_count": 3,
   "metadata": {},
   "outputs": [
    {
     "name": "stdout",
     "output_type": "stream",
     "text": [
      "(9, 3)\n",
      "(75, 5000)\n",
      "(61, 5000)\n",
      "(60, 5000)\n"
     ]
    }
   ],
   "source": [
    "print(acc_instFreq.shape)\n",
    "print(np.array(acc_instFreq[0][0]).shape)\n",
    "print(np.array(acc_instFreq[1][0]).shape)\n",
    "print(np.array(acc_instFreq[2][0]).shape)"
   ]
  },
  {
   "cell_type": "code",
   "execution_count": 4,
   "metadata": {},
   "outputs": [
    {
     "name": "stdout",
     "output_type": "stream",
     "text": [
      "(5000,)\n"
     ]
    }
   ],
   "source": [
    "print(np.array(acc_instFreq[0][0])[1].shape)\n",
    "rcParams['figure.figsize'] = 15,5"
   ]
  },
  {
   "cell_type": "code",
   "execution_count": 6,
   "metadata": {},
   "outputs": [
    {
     "data": {
      "image/png": "[encoded data removed]",
      "text/plain": [
       "<Figure size 1080x360 with 1 Axes>"
      ]
     },
     "metadata": {},
     "output_type": "display_data"
    }
   ],
   "source": [
    "TSI = list()\n",
    "axi = list()\n",
    "ins = list()\n",
    "\n",
    "for patientt in range(acc_instFreq.shape[0]):#10\n",
    "    for axiss in range(acc_instFreq.shape[1]):#3\n",
    "        for instt in range(np.array(acc_instFreq[patientt][axiss]).shape[0]):#75\n",
    "            delta_f = np.diff(np.array(acc_instFreq[patientt][axiss])[instt])\n",
    "            delta_f = np.pad(delta_f, (0, 1), 'constant')\n",
    "            f = np.array(acc_instFreq[patientt][axiss])[instt]\n",
    "            plt.xlabel(\"f\")\n",
    "            plt.ylabel(\"delta f\")\n",
    "            plt.plot(f,delta_f,'r.')\n",
    "            break\n",
    "            q75, q25 = np.percentile(delta_f, [75 ,25])\n",
    "            iqr = q75 - q25\n",
    "            ins.append(iqr)\n",
    "        axi.append(ins)\n",
    "        ins=list()\n",
    "    TSI.append(axi)\n",
    "    axi=list()"
   ]
  },
  {
   "cell_type": "code",
   "execution_count": 6,
   "metadata": {},
   "outputs": [
    {
     "name": "stdout",
     "output_type": "stream",
     "text": [
      "9\n",
      "3\n",
      "75\n"
     ]
    }
   ],
   "source": [
    "print(len(TSI))\n",
    "print(len(TSI[0]))\n",
    "print(len(TSI[0][0]))"
   ]
  },
  {
   "cell_type": "code",
   "execution_count": 7,
   "metadata": {},
   "outputs": [
    {
     "name": "stdout",
     "output_type": "stream",
     "text": [
      "(9, 3)\n"
     ]
    }
   ],
   "source": [
    "print(np.array(TSI).shape)"
   ]
  },
  {
   "cell_type": "code",
   "execution_count": 8,
   "metadata": {},
   "outputs": [],
   "source": [
    "np.save(\"TSI\",arr = np.array(TSI))"
   ]
  },
  {
   "cell_type": "code",
   "execution_count": null,
   "metadata": {},
   "outputs": [],
   "source": []
  }
 ],
 "metadata": {
  "kernelspec": {
   "display_name": "Python 3",
   "language": "python",
   "name": "python3"
  },
  "language_info": {
   "codemirror_mode": {
    "name": "ipython",
    "version": 3
   },
   "file_extension": ".py",
   "mimetype": "text/x-python",
   "name": "python",
   "nbconvert_exporter": "python",
   "pygments_lexer": "ipython3",
   "version": "3.6.5"
  }
 },
 "nbformat": 4,
 "nbformat_minor": 2
}
